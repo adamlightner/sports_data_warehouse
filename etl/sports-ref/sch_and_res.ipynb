{
 "cells": [
  {
   "cell_type": "code",
   "execution_count": 1,
   "id": "f1906f76-415c-495d-a0f7-5564d45a6ed3",
   "metadata": {},
   "outputs": [],
   "source": [
    "import requests\n",
    "import os\n",
    "import sys\n",
    "import datetime\n",
    "import pandas as pd\n",
    "import numpy as np\n",
    "from bs4 import BeautifulSoup, Comment\n",
    "\n",
    "utils_path = os.getcwd().split('sports_data_warehouse')[0] + 'sports_data_warehouse/utils'\n",
    "sys.path.append(utils_path)\n",
    "\n",
    "from gcp import GCPUtils"
   ]
  },
  {
   "cell_type": "code",
   "execution_count": 2,
   "id": "7e1e19d3",
   "metadata": {},
   "outputs": [],
   "source": [
    "class ScheduleAndResults():\n",
    "    \n",
    "    def __init__(self, sport):\n",
    "        \n",
    "        self.sport = sport\n",
    "        \n",
    "        self.get_sport_attrs()\n",
    "        self.get_current_season()\n",
    "        \n",
    "    def get_sport_attrs(self):\n",
    "        \n",
    "        sport_attrs = {\n",
    "            'nfl': {\n",
    "                'season_start_month': 9,\n",
    "                'url_base': 'https://www.pro-football-reference.com/years/{year}/games.htm'\n",
    "            },\n",
    "            'nhl': {\n",
    "                'season_start_month': 10,\n",
    "                'url_base': 'https://www.hockey-reference.com/leagues/NHL_{year}_games.html'\n",
    "            }\n",
    "        }\n",
    "        \n",
    "        self.season_start_month = sport_attrs[self.sport]['season_start_month']\n",
    "        self.url_base = sport_attrs[self.sport]['url_base']\n",
    "        \n",
    "    def get_current_season(self):\n",
    "    \n",
    "        dt = datetime.datetime.now()\n",
    "\n",
    "        if dt.month >= self.season_start_month - 1:\n",
    "            self.curret_season = dt.year\n",
    "        else:\n",
    "            self.curret_season = dt.year - 1\n",
    "            \n",
    "        if self.sport in ['nhl']:\n",
    "            self.curret_season += 1\n",
    "            \n",
    "    def get_table(self, year=None):\n",
    "        \n",
    "        year = year if year else self.curret_season\n",
    "        \n",
    "        url = self.url_base.format(year=year)\n",
    "        # Fetch and parse the HTML content\n",
    "        response = requests.get(url)\n",
    "        soup = BeautifulSoup(response.content, \"html.parser\")\n",
    "        \n",
    "        # Find the target table\n",
    "        table = soup.find(\"table\", {\"id\": \"games\"})\n",
    "        \n",
    "        # Get column names\n",
    "        thead = table.find(\"thead\")\n",
    "        columns = [i.attrs['data-stat'] for i in thead.find_all(\"th\", {\"scope\": \"col\"})]\n",
    "        \n",
    "        # Get rows\n",
    "        tbody = table.find(\"tbody\")\n",
    "        rows = tbody.find_all(\"tr\", class_=lambda c: c != \"thead\")\n",
    "        \n",
    "\n",
    "        # Prepare a list to store data\n",
    "        data = []\n",
    "\n",
    "        # Loop through rows\n",
    "        for row in rows:\n",
    "\n",
    "            content = [(r.getText(), r.find('a')['href']) \\\n",
    "                       if r.find('a') != None else r.getText() \\\n",
    "                       for r in row.find_all(name=['th', 'td'])]\n",
    "\n",
    "            data.append(content)\n",
    "\n",
    "        df = pd.DataFrame(data, columns=columns).replace('', np.nan).dropna(axis=0, thresh=2)\n",
    "        \n",
    "        return df"
   ]
  },
  {
   "cell_type": "code",
   "execution_count": 3,
   "id": "48c18580",
   "metadata": {},
   "outputs": [],
   "source": [
    "# def main():"
   ]
  },
  {
   "cell_type": "code",
   "execution_count": 4,
   "id": "7fb85b40-51e3-4655-9f4c-e8d4479afc99",
   "metadata": {},
   "outputs": [],
   "source": [
    "gcp_tool = GCPUtils(key_path=utils_path + '/gcp_keys/sports-warehouse.json')"
   ]
  },
  {
   "cell_type": "code",
   "execution_count": 5,
   "id": "b7b0256c-4e46-479b-ad4e-7dc0c4fd3d5b",
   "metadata": {},
   "outputs": [
    {
     "name": "stdout",
     "output_type": "stream",
     "text": [
      "Project: sports-warehouse-442719\n"
     ]
    }
   ],
   "source": [
    "print('Project:', gcp_tool.storage_client.project)"
   ]
  },
  {
   "cell_type": "code",
   "execution_count": 6,
   "id": "d0e4ba53",
   "metadata": {},
   "outputs": [],
   "source": [
    "res_obj = ScheduleAndResults('nhl')"
   ]
  },
  {
   "cell_type": "code",
   "execution_count": 7,
   "id": "33167125-429f-457c-851e-440ee5662353",
   "metadata": {},
   "outputs": [],
   "source": [
    "bucket_name = \"nhl_data_storage\""
   ]
  },
  {
   "cell_type": "code",
   "execution_count": 8,
   "id": "54800316-eb18-4e40-9e94-ff34c24647a1",
   "metadata": {},
   "outputs": [
    {
     "name": "stdout",
     "output_type": "stream",
     "text": [
      "DataFrame saved to nhl_data_storage/schedule_and_results/2015.csv\n",
      "DataFrame saved to nhl_data_storage/schedule_and_results/2016.csv\n",
      "DataFrame saved to nhl_data_storage/schedule_and_results/2017.csv\n",
      "DataFrame saved to nhl_data_storage/schedule_and_results/2018.csv\n",
      "DataFrame saved to nhl_data_storage/schedule_and_results/2019.csv\n",
      "DataFrame saved to nhl_data_storage/schedule_and_results/2020.csv\n",
      "DataFrame saved to nhl_data_storage/schedule_and_results/2021.csv\n",
      "DataFrame saved to nhl_data_storage/schedule_and_results/2022.csv\n",
      "DataFrame saved to nhl_data_storage/schedule_and_results/2023.csv\n",
      "DataFrame saved to nhl_data_storage/schedule_and_results/2024.csv\n"
     ]
    }
   ],
   "source": [
    "for year in range(2015, res_obj.curret_season):\n",
    "    \n",
    "    df = res_obj.get_table(year)\n",
    "    \n",
    "    blob_name = f\"schedule_and_results/{year}.csv\"\n",
    "\n",
    "    gcp_tool.pandas_to_gcs(\n",
    "        df=df,\n",
    "        blob_name=blob_name,\n",
    "        bucket_name=bucket_name\n",
    "    )"
   ]
  },
  {
   "cell_type": "code",
   "execution_count": null,
   "id": "1d703a96-f921-4bfd-93ea-3dca2f244bcf",
   "metadata": {},
   "outputs": [],
   "source": []
  }
 ],
 "metadata": {
  "kernelspec": {
   "display_name": "venv_sports_data_warehouse",
   "language": "python",
   "name": "venv_sports_data_warehouse"
  },
  "language_info": {
   "codemirror_mode": {
    "name": "ipython",
    "version": 3
   },
   "file_extension": ".py",
   "mimetype": "text/x-python",
   "name": "python",
   "nbconvert_exporter": "python",
   "pygments_lexer": "ipython3",
   "version": "3.8.3"
  }
 },
 "nbformat": 4,
 "nbformat_minor": 5
}
