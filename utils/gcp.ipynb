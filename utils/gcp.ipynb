{
 "cells": [
  {
   "cell_type": "code",
   "execution_count": 1,
   "id": "bf14db5b",
   "metadata": {},
   "outputs": [],
   "source": [
    "import io\n",
    "import os\n",
    "import pandas as pd\n",
    "\n",
    "from google.cloud import bigquery\n",
    "from google.cloud import storage"
   ]
  },
  {
   "cell_type": "code",
   "execution_count": 3,
   "id": "3d3f2319",
   "metadata": {},
   "outputs": [],
   "source": [
    "class GCPUtils():\n",
    "    \n",
    "    def __init__(self):\n",
    "\n",
    "        # Define the path to your Google Cloud service account key file\n",
    "        key_path = \"gcp_keys/sports-warehouse.json\"\n",
    "        # Set the environment variable programmatically\n",
    "        os.environ[\"GOOGLE_APPLICATION_CREDENTIALS\"] = key_path\n",
    "\n",
    "        # Create Storage Client\n",
    "        self.storage_client = storage.Client()\n",
    "        \n",
    "    def pandas_to_gcs(self, df, blob_name, bucket_name=None):\n",
    "\n",
    "        # Get the bucket object\n",
    "        bucket_obj = client.bucket(bucket_name)\n",
    "\n",
    "        # Create a blob object\n",
    "        blob_obj = bucket_obj.blob(blob_name)\n",
    "\n",
    "        # Convert the DataFrame to CSV format\n",
    "        csv_data = df.to_csv(index=False)\n",
    "\n",
    "        # Upload the CSV data to the blob\n",
    "        blob_obj.upload_from_string(csv_data, content_type='text/csv')\n",
    "\n",
    "        print(f\"DataFrame saved to {bucket}/{blob}\")"
   ]
  },
  {
   "cell_type": "code",
   "execution_count": null,
   "id": "0e0137ba",
   "metadata": {},
   "outputs": [],
   "source": []
  },
  {
   "cell_type": "code",
   "execution_count": null,
   "id": "2fd26864",
   "metadata": {},
   "outputs": [],
   "source": [
    "# def bq_to_pandas(query):\n",
    "    \n",
    "#     return None"
   ]
  },
  {
   "cell_type": "code",
   "execution_count": null,
   "id": "de6a9891",
   "metadata": {},
   "outputs": [],
   "source": [
    "# def pandas_to_bq(df):\n",
    "    \n",
    "#     return None"
   ]
  },
  {
   "cell_type": "code",
   "execution_count": null,
   "id": "26e6e656",
   "metadata": {},
   "outputs": [],
   "source": [
    "# def _get_blob_(client, bucket_name, blob_name):\n",
    "\n",
    "#     # Get a reference to a bucket\n",
    "#     bucket = client.bucket(bucket_name)\n",
    "    \n",
    "#     # Download the file to a local temporary file\n",
    "#     blob = bucket.blob(blob_name)\n",
    "    \n",
    "#     return blob\n",
    "\n",
    "# def gcs_to_pandas(df):\n",
    "    \n",
    "#     # Define storage client & source paths\n",
    "#     storage_client = storage.Client.from_service_account_json(key_path)\n",
    "    \n",
    "#     src_blob = get_blob(storage_client, src_bucket_name, src_blob_name)\n",
    "#     # Download the blob to a BytesIO object\n",
    "#     data = io.BytesIO()\n",
    "#     blob.download_to_file(data)\n",
    "#     data.seek(0)\n",
    "\n",
    "#     # Read the data from the BytesIO object into a Pandas DataFrame\n",
    "#     df = pd.read_csv(data)\n",
    "    \n",
    "#     return df"
   ]
  },
  {
   "cell_type": "code",
   "execution_count": null,
   "id": "71d05dab",
   "metadata": {},
   "outputs": [],
   "source": [
    "# def pandas_to_gcs(df):\n",
    "    \n",
    "#     # Define client\n",
    "#     client = storage.Client.from_service_account_json(key)\n",
    "    \n",
    "#     # Get the bucket object\n",
    "#     bucket = client.bucket(bucket)\n",
    "\n",
    "#     # Create a blob object\n",
    "#     blob = bucket.blob(blob)\n",
    "\n",
    "#     # Convert the DataFrame to CSV format\n",
    "#     csv_data = df.to_csv(index=False)\n",
    "\n",
    "#     # Upload the CSV data to the blob\n",
    "#     blob.upload_from_string(csv_data, content_type='text/csv')\n",
    "\n",
    "#     print(f\"DataFrame saved to {bucket}/{blob}\")"
   ]
  },
  {
   "cell_type": "code",
   "execution_count": null,
   "id": "94afd807",
   "metadata": {},
   "outputs": [],
   "source": [
    "# def create_table(client, table_ref, schema):\n",
    "\n",
    "#     table = bigquery.Table(table_ref, schema=schema)\n",
    "#     table = client.create_table(table)\n",
    "#     print(\"Created table {}.\".format(table.full_table_id))"
   ]
  }
 ],
 "metadata": {
  "kernelspec": {
   "display_name": "venv_sports_data_warehouse",
   "language": "python",
   "name": "venv_sports_data_warehouse"
  },
  "language_info": {
   "codemirror_mode": {
    "name": "ipython",
    "version": 3
   },
   "file_extension": ".py",
   "mimetype": "text/x-python",
   "name": "python",
   "nbconvert_exporter": "python",
   "pygments_lexer": "ipython3",
   "version": "3.8.3"
  }
 },
 "nbformat": 4,
 "nbformat_minor": 5
}
