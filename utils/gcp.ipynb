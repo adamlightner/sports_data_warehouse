{
 "cells": [
  {
   "cell_type": "code",
   "execution_count": 3,
   "id": "90c647f3",
   "metadata": {},
   "outputs": [],
   "source": [
    "import pandas as pd\n",
    "import io\n",
    "import os\n",
    "\n",
    "from google.cloud import bigquery\n",
    "from google.cloud import storage"
   ]
  },
  {
   "cell_type": "code",
   "execution_count": 2,
   "id": "54e42d2f",
   "metadata": {},
   "outputs": [],
   "source": [
    "def bq_to_pandas(query):\n",
    "    \n",
    "    return None"
   ]
  },
  {
   "cell_type": "code",
   "execution_count": null,
   "id": "e7fbc2fe",
   "metadata": {},
   "outputs": [],
   "source": [
    "def pandas_to_bq(df):\n",
    "    \n",
    "    return None"
   ]
  },
  {
   "cell_type": "code",
   "execution_count": null,
   "id": "b42beae8",
   "metadata": {},
   "outputs": [],
   "source": [
    "def _get_blob_(client, bucket_name, blob_name):\n",
    "\n",
    "    # Get a reference to a bucket\n",
    "    bucket = client.bucket(bucket_name)\n",
    "    \n",
    "    # Download the file to a local temporary file\n",
    "    blob = bucket.blob(blob_name)\n",
    "    \n",
    "    return blob\n",
    "\n",
    "def gcs_to_pandas(df):\n",
    "    \n",
    "    # Define storage client & source paths\n",
    "    storage_client = storage.Client.from_service_account_json(key_path)\n",
    "    \n",
    "    src_blob = get_blob(storage_client, src_bucket_name, src_blob_name)\n",
    "    # Download the blob to a BytesIO object\n",
    "    data = io.BytesIO()\n",
    "    blob.download_to_file(data)\n",
    "    data.seek(0)\n",
    "\n",
    "    # Read the data from the BytesIO object into a Pandas DataFrame\n",
    "    df = pd.read_csv(data)\n",
    "    \n",
    "    return df"
   ]
  },
  {
   "cell_type": "code",
   "execution_count": null,
   "id": "4d9b660d",
   "metadata": {},
   "outputs": [],
   "source": [
    "def pandas_to_gcs(df):\n",
    "    \n",
    "    # Define client\n",
    "    client = storage.Client.from_service_account_json(key)\n",
    "    \n",
    "    # Get the bucket object\n",
    "    bucket = client.bucket(bucket)\n",
    "\n",
    "    # Create a blob object\n",
    "    blob = bucket.blob(blob)\n",
    "\n",
    "    # Convert the DataFrame to CSV format\n",
    "    csv_data = df.to_csv(index=False)\n",
    "\n",
    "    # Upload the CSV data to the blob\n",
    "    blob.upload_from_string(csv_data, content_type='text/csv')\n",
    "\n",
    "    print(f\"DataFrame saved to {bucket}/{blob}\")"
   ]
  },
  {
   "cell_type": "code",
   "execution_count": null,
   "id": "352e9489",
   "metadata": {},
   "outputs": [],
   "source": [
    "def create_table(client, table_ref, schema):\n",
    "\n",
    "    table = bigquery.Table(table_ref, schema=schema)\n",
    "    table = client.create_table(table)\n",
    "    print(\"Created table {}.\".format(table.full_table_id))"
   ]
  }
 ],
 "metadata": {
  "kernelspec": {
   "display_name": "venv_sports_data_warehouse",
   "language": "python",
   "name": "venv_sports_data_warehouse"
  },
  "language_info": {
   "codemirror_mode": {
    "name": "ipython",
    "version": 3
   },
   "file_extension": ".py",
   "mimetype": "text/x-python",
   "name": "python",
   "nbconvert_exporter": "python",
   "pygments_lexer": "ipython3",
   "version": "3.8.3"
  }
 },
 "nbformat": 4,
 "nbformat_minor": 5
}
