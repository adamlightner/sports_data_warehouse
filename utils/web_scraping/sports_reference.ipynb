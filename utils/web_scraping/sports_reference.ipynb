{
 "cells": [
  {
   "cell_type": "code",
   "execution_count": 5,
   "id": "c4abab0e",
   "metadata": {},
   "outputs": [],
   "source": [
    "import requests\n",
    "from bs4 import BeautifulSoup, Comment"
   ]
  },
  {
   "cell_type": "code",
   "execution_count": 173,
   "id": "4d1c1f20",
   "metadata": {},
   "outputs": [],
   "source": [
    "def get_soup(url):\n",
    "\n",
    "    response = requests.get(url)\n",
    "    soup = BeautifulSoup(response.content, \"html.parser\")\n",
    "\n",
    "    return soup\n",
    "\n",
    "def get_table(soup, table_id):\n",
    "\n",
    "    return None"
   ]
  },
  {
   "cell_type": "code",
   "execution_count": 174,
   "id": "508daaff",
   "metadata": {},
   "outputs": [],
   "source": [
    "class InvalidInputError(Exception):\n",
    "    \n",
    "    \"\"\"Raised when the input is invalid.\"\"\"\n",
    "    pass"
   ]
  },
  {
   "cell_type": "code",
   "execution_count": 175,
   "id": "ccb6a75e",
   "metadata": {},
   "outputs": [],
   "source": [
    "class SportsReference:\n",
    "    \"\"\"\n",
    "    A class to scrape data from sports-reference.com\n",
    "    \"\"\"\n",
    "    def __init__(self, sport):\n",
    "        \"\"\"\n",
    "        Initializes the object and takes dynamic keyword arguments.\n",
    "\n",
    "        Args:\n",
    "          value: The initial value for the object. Defaults to None.\n",
    "        \"\"\"\n",
    "        \n",
    "        self.sport = sport\n",
    "        \n",
    "        sport_url_map = {\n",
    "            \"mlb\": \"https://www.baseball-reference.com/\",\n",
    "            \"nba\": \"https://www.basketball-reference.com/\",\n",
    "            \"nfl\": \"https://www.pro-football-reference.com/\",\n",
    "            \"nhl\": \"https://www.hockey-reference.com/\",\n",
    "            \"cfb\": \"https://www.sports-reference.com/cfb/\",\n",
    "            \"cbb\": \"https://www.sports-reference.com/cbb/\",\n",
    "            \"soc\": \"https://fbref.com/en/\"\n",
    "        }\n",
    "        \n",
    "        self.sport_page_support = {\n",
    "            \"nfl\": ['get_player', 'get_schedule', 'get_boxscore']\n",
    "        }\n",
    "        \n",
    "        try:\n",
    "            \n",
    "            self.base_url = sport_url_map[sport]\n",
    "        except:\n",
    "            \n",
    "            supported_sports = ', '.join(sport_url_map.keys())\n",
    "            raise InvalidInputError(f\"Please specify a supported sport: {supported_sports}.\")\n",
    "                \n",
    "    def list_supported_actions(self):\n",
    "    \n",
    "        print(self.sport_page_support[self.sport])\n",
    "    \n",
    "    def get_player(self, player):\n",
    "        \n",
    "        url = self.base_url + 'players/' + player[:1] + '/' + player + '.htm'\n",
    "        \n",
    "        soup = get_soup(url)\n",
    "        \n",
    "        return soup\n",
    "    "
   ]
  },
  {
   "cell_type": "code",
   "execution_count": 176,
   "id": "fdeaf747",
   "metadata": {},
   "outputs": [],
   "source": [
    "x = SportsReference(\n",
    "    sport = \"nfl\"\n",
    ")"
   ]
  },
  {
   "cell_type": "code",
   "execution_count": 177,
   "id": "bbb8027a",
   "metadata": {},
   "outputs": [
    {
     "data": {
      "text/plain": [
       "'https://www.pro-football-reference.com/'"
      ]
     },
     "execution_count": 177,
     "metadata": {},
     "output_type": "execute_result"
    }
   ],
   "source": [
    "x.base_url"
   ]
  },
  {
   "cell_type": "code",
   "execution_count": 178,
   "id": "56848a29",
   "metadata": {},
   "outputs": [
    {
     "name": "stdout",
     "output_type": "stream",
     "text": [
      "['get_player', 'get_schedule', 'get_boxscore']\n"
     ]
    }
   ],
   "source": [
    "x.list_supported_actions()"
   ]
  },
  {
   "cell_type": "code",
   "execution_count": 179,
   "id": "d26dc50e",
   "metadata": {},
   "outputs": [],
   "source": [
    "soup = x.get_player(player='GainWi20')"
   ]
  },
  {
   "cell_type": "code",
   "execution_count": null,
   "id": "3afeb592",
   "metadata": {},
   "outputs": [],
   "source": []
  },
  {
   "cell_type": "code",
   "execution_count": null,
   "id": "a4e0f803",
   "metadata": {},
   "outputs": [],
   "source": []
  },
  {
   "cell_type": "code",
   "execution_count": 63,
   "id": "946be24e",
   "metadata": {},
   "outputs": [],
   "source": [
    "# test = SportsReference(\n",
    "#     sport = \"epl\", \n",
    "#     category = \"players\"\n",
    "# )"
   ]
  },
  {
   "cell_type": "code",
   "execution_count": null,
   "id": "1ee1a26d",
   "metadata": {},
   "outputs": [],
   "source": []
  },
  {
   "cell_type": "code",
   "execution_count": null,
   "id": "1ac5402e",
   "metadata": {},
   "outputs": [],
   "source": []
  },
  {
   "cell_type": "code",
   "execution_count": null,
   "id": "d29f5d15",
   "metadata": {},
   "outputs": [],
   "source": []
  },
  {
   "cell_type": "code",
   "execution_count": 6,
   "id": "9bebecb9",
   "metadata": {},
   "outputs": [],
   "source": [
    "url_map = {\n",
    "    \"mlb\": \"https://www.baseball-reference.com/\",\n",
    "    \"nba\": \"https://www.basketball-reference.com/\",\n",
    "    \"nfl\": \"https://www.pro-football-reference.com/\",\n",
    "    \"nhl\": \"https://www.hockey-reference.com/\",\n",
    "    \"cfb\": \"https://www.sports-reference.com/cfb/\",\n",
    "    \"cbb\": \"https://www.sports-reference.com/cbb/\",\n",
    "    \"soc\": \"https://fbref.com/en/\"\n",
    "}"
   ]
  },
  {
   "cell_type": "code",
   "execution_count": 7,
   "id": "d7186c97",
   "metadata": {},
   "outputs": [
    {
     "name": "stdout",
     "output_type": "stream",
     "text": [
      "mlb https://www.baseball-reference.com/\n",
      "nba https://www.basketball-reference.com/\n",
      "nfl https://www.pro-football-reference.com/\n",
      "nhl https://www.hockey-reference.com/\n",
      "cfb https://www.sports-reference.com/cfb/\n",
      "cbb https://www.sports-reference.com/cbb/\n",
      "soc https://fbref.com/en/\n"
     ]
    }
   ],
   "source": [
    "for k, v in url_map.items():\n",
    "    print(k, v)"
   ]
  },
  {
   "cell_type": "code",
   "execution_count": 10,
   "id": "c0bfb17f",
   "metadata": {},
   "outputs": [],
   "source": [
    "def sports_ref_soup(sport, **kwargs):\n",
    "    \n",
    "    print(sport, url_map[sport])\n",
    "    \n",
    "    for key, value in kwargs.items():\n",
    "        print(f\"{key}: {value}\")"
   ]
  },
  {
   "cell_type": "code",
   "execution_count": 11,
   "id": "87c218f6",
   "metadata": {},
   "outputs": [
    {
     "name": "stdout",
     "output_type": "stream",
     "text": [
      "nfl https://www.pro-football-reference.com/\n"
     ]
    }
   ],
   "source": [
    "sports_ref_soup('nfl')"
   ]
  },
  {
   "cell_type": "code",
   "execution_count": 12,
   "id": "18f6a5fb",
   "metadata": {},
   "outputs": [
    {
     "name": "stdout",
     "output_type": "stream",
     "text": [
      "nfl https://www.pro-football-reference.com/\n",
      "grain: schedule\n"
     ]
    }
   ],
   "source": [
    "sports_ref_soup('nfl', grain = 'schedule')"
   ]
  },
  {
   "cell_type": "code",
   "execution_count": null,
   "id": "5dabbc77",
   "metadata": {},
   "outputs": [],
   "source": []
  },
  {
   "cell_type": "code",
   "execution_count": 13,
   "id": "196addce",
   "metadata": {},
   "outputs": [],
   "source": [
    "class InvalidInputError(Exception):\n",
    "    \n",
    "    \"\"\"Raised when the input is invalid.\"\"\"\n",
    "    pass"
   ]
  },
  {
   "cell_type": "code",
   "execution_count": 16,
   "id": "b9fcff00",
   "metadata": {},
   "outputs": [],
   "source": [
    "def validate_input(value):\n",
    "    if value < 0:\n",
    "        raise InvalidInputError(\"Input value must be non-negative. IDK\")\n",
    "    return value"
   ]
  },
  {
   "cell_type": "code",
   "execution_count": 17,
   "id": "0ea7ff31",
   "metadata": {},
   "outputs": [
    {
     "name": "stdout",
     "output_type": "stream",
     "text": [
      "Error: Input value must be non-negative. IDK\n"
     ]
    }
   ],
   "source": [
    "try:\n",
    "    result = validate_input(-5)\n",
    "except InvalidInputError as e:\n",
    "    print(f\"Error: {e}\") "
   ]
  },
  {
   "cell_type": "code",
   "execution_count": null,
   "id": "4286b9f3",
   "metadata": {},
   "outputs": [],
   "source": []
  },
  {
   "cell_type": "code",
   "execution_count": null,
   "id": "261cb385",
   "metadata": {},
   "outputs": [],
   "source": []
  }
 ],
 "metadata": {
  "kernelspec": {
   "display_name": "venv_sports_data_warehouse",
   "language": "python",
   "name": "venv_sports_data_warehouse"
  },
  "language_info": {
   "codemirror_mode": {
    "name": "ipython",
    "version": 3
   },
   "file_extension": ".py",
   "mimetype": "text/x-python",
   "name": "python",
   "nbconvert_exporter": "python",
   "pygments_lexer": "ipython3",
   "version": "3.8.3"
  }
 },
 "nbformat": 4,
 "nbformat_minor": 5
}
