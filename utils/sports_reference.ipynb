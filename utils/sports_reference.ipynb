{
 "cells": [
  {
   "cell_type": "code",
   "execution_count": 5,
   "id": "2ea04141",
   "metadata": {},
   "outputs": [],
   "source": [
    "import requests\n",
    "from bs4 import BeautifulSoup, Comment"
   ]
  },
  {
   "cell_type": "code",
   "execution_count": 173,
   "id": "2af4f511",
   "metadata": {},
   "outputs": [],
   "source": [
    "def get_soup(url):\n",
    "\n",
    "    response = requests.get(url)\n",
    "    soup = BeautifulSoup(response.content, \"html.parser\")\n",
    "\n",
    "    return soup\n",
    "\n",
    "def get_table(soup, table_id):\n",
    "\n",
    "    return None"
   ]
  },
  {
   "cell_type": "code",
   "execution_count": 174,
   "id": "06754579",
   "metadata": {},
   "outputs": [],
   "source": [
    "class InvalidInputError(Exception):\n",
    "    \n",
    "    \"\"\"Raised when the input is invalid.\"\"\"\n",
    "    pass"
   ]
  },
  {
   "cell_type": "code",
   "execution_count": 229,
   "id": "6241ee9a",
   "metadata": {},
   "outputs": [],
   "source": [
    "class SportsReference:\n",
    "    \"\"\"\n",
    "    A class to scrape data from sports-reference.com\n",
    "    \"\"\"\n",
    "    def __init__(self, sport):\n",
    "        \"\"\"\n",
    "        Initializes the object and takes dynamic keyword arguments.\n",
    "\n",
    "        Args:\n",
    "          value: The initial value for the object. Defaults to None.\n",
    "        \"\"\"\n",
    "        \n",
    "        self.sport = sport\n",
    "        \n",
    "        sport_url_map = {\n",
    "            \"mlb\": \"https://www.baseball-reference.com/{ext}\",\n",
    "            \"nba\": \"https://www.basketball-reference.com/{ext}\",\n",
    "            \"nfl\": \"https://www.pro-football-reference.com/{ext}\",\n",
    "            \"nhl\": \"https://www.hockey-reference.com/{ext}\",\n",
    "            \"cfb\": \"https://www.sports-reference.com/cfb/{ext}\",\n",
    "            \"cbb\": \"https://www.sports-reference.com/cbb/{ext}\",\n",
    "            \"soc\": \"https://fbref.com/en/{ext}\"\n",
    "        }\n",
    "        \n",
    "        self.sport_page_support = {\n",
    "            \"nfl\": ['get_player', 'get_schedule', 'get_boxscore']\n",
    "        }\n",
    "        \n",
    "        try:\n",
    "            \n",
    "            self.base_url = sport_url_map[sport]\n",
    "        except:\n",
    "            \n",
    "            supported_sports = ', '.join(sport_url_map.keys())\n",
    "            raise InvalidInputError(f\"Please specify a supported sport: {supported_sports}.\")\n",
    "                \n",
    "    def list_supported_actions(self):\n",
    "    \n",
    "        print(self.sport_page_support[self.sport])\n",
    "    \n",
    "    def get_player(self, player):\n",
    "        \n",
    "        sport_ext_map = {\n",
    "            \"nba\": \"\",\n",
    "            \"nfl\": \"\",\n",
    "        }\n",
    "        \n",
    "#         url = self.base_url\n",
    "#         soup = get_soup(url)\n",
    "        \n",
    "        return None\n",
    "    \n",
    "    def get_schedule(self, year):\n",
    "        \n",
    "        sport_ext_map = {\n",
    "            \"nba\": \"nba_ext\",\n",
    "            \"nfl\": \"nfl_ext\",\n",
    "        }\n",
    "        \n",
    "        url = self.base_url.format(ext=sport_ext_map[self.sport])\n",
    "        \n",
    "        print(url)\n",
    "#         soup = get_soup(url)\n",
    "        \n",
    "        return None\n",
    "    \n",
    "    def get_boxscore(self, player):\n",
    "        \n",
    "        return None "
   ]
  },
  {
   "cell_type": "code",
   "execution_count": 230,
   "id": "fe647df6",
   "metadata": {},
   "outputs": [],
   "source": [
    "x = SportsReference(\n",
    "    sport = \"nfl\"\n",
    ")"
   ]
  },
  {
   "cell_type": "code",
   "execution_count": 231,
   "id": "2b593b26",
   "metadata": {},
   "outputs": [
    {
     "data": {
      "text/plain": [
       "'https://www.pro-football-reference.com/{ext}'"
      ]
     },
     "execution_count": 231,
     "metadata": {},
     "output_type": "execute_result"
    }
   ],
   "source": [
    "x.base_url"
   ]
  },
  {
   "cell_type": "code",
   "execution_count": 232,
   "id": "fd273c2d",
   "metadata": {},
   "outputs": [
    {
     "name": "stdout",
     "output_type": "stream",
     "text": [
      "['get_player', 'get_schedule', 'get_boxscore']\n"
     ]
    }
   ],
   "source": [
    "x.list_supported_actions()"
   ]
  },
  {
   "cell_type": "code",
   "execution_count": 233,
   "id": "cb6eb340",
   "metadata": {},
   "outputs": [
    {
     "name": "stdout",
     "output_type": "stream",
     "text": [
      "https://www.pro-football-reference.com/nfl_ext\n"
     ]
    }
   ],
   "source": [
    "soup = x.get_schedule(year='2023')"
   ]
  },
  {
   "cell_type": "code",
   "execution_count": 234,
   "id": "b4d77230",
   "metadata": {},
   "outputs": [],
   "source": [
    "soup"
   ]
  },
  {
   "cell_type": "code",
   "execution_count": 235,
   "id": "5c08ba0b",
   "metadata": {},
   "outputs": [
    {
     "name": "stdout",
     "output_type": "stream",
     "text": [
      "https://www.pro-football-reference.com/nfl_ext\n"
     ]
    }
   ],
   "source": [
    "soup2 = x.get_schedule('2024')"
   ]
  },
  {
   "cell_type": "code",
   "execution_count": 237,
   "id": "a4555462",
   "metadata": {},
   "outputs": [],
   "source": [
    "soup2"
   ]
  },
  {
   "cell_type": "code",
   "execution_count": 63,
   "id": "6a17108c",
   "metadata": {},
   "outputs": [],
   "source": [
    "# test = SportsReference(\n",
    "#     sport = \"epl\", \n",
    "#     category = \"players\"\n",
    "# )"
   ]
  },
  {
   "cell_type": "code",
   "execution_count": null,
   "id": "58775061",
   "metadata": {},
   "outputs": [],
   "source": []
  },
  {
   "cell_type": "code",
   "execution_count": null,
   "id": "81c5eccc",
   "metadata": {},
   "outputs": [],
   "source": []
  },
  {
   "cell_type": "code",
   "execution_count": null,
   "id": "14369318",
   "metadata": {},
   "outputs": [],
   "source": []
  },
  {
   "cell_type": "code",
   "execution_count": 6,
   "id": "270c9850",
   "metadata": {},
   "outputs": [],
   "source": [
    "url_map = {\n",
    "    \"mlb\": \"https://www.baseball-reference.com/\",\n",
    "    \"nba\": \"https://www.basketball-reference.com/\",\n",
    "    \"nfl\": \"https://www.pro-football-reference.com/\",\n",
    "    \"nhl\": \"https://www.hockey-reference.com/\",\n",
    "    \"cfb\": \"https://www.sports-reference.com/cfb/\",\n",
    "    \"cbb\": \"https://www.sports-reference.com/cbb/\",\n",
    "    \"soc\": \"https://fbref.com/en/\"\n",
    "}"
   ]
  },
  {
   "cell_type": "code",
   "execution_count": 7,
   "id": "1ae3b30f",
   "metadata": {},
   "outputs": [
    {
     "name": "stdout",
     "output_type": "stream",
     "text": [
      "mlb https://www.baseball-reference.com/\n",
      "nba https://www.basketball-reference.com/\n",
      "nfl https://www.pro-football-reference.com/\n",
      "nhl https://www.hockey-reference.com/\n",
      "cfb https://www.sports-reference.com/cfb/\n",
      "cbb https://www.sports-reference.com/cbb/\n",
      "soc https://fbref.com/en/\n"
     ]
    }
   ],
   "source": [
    "for k, v in url_map.items():\n",
    "    print(k, v)"
   ]
  },
  {
   "cell_type": "code",
   "execution_count": 10,
   "id": "5d04a666",
   "metadata": {},
   "outputs": [],
   "source": [
    "def sports_ref_soup(sport, **kwargs):\n",
    "    \n",
    "    print(sport, url_map[sport])\n",
    "    \n",
    "    for key, value in kwargs.items():\n",
    "        print(f\"{key}: {value}\")"
   ]
  },
  {
   "cell_type": "code",
   "execution_count": 11,
   "id": "b0505cfe",
   "metadata": {},
   "outputs": [
    {
     "name": "stdout",
     "output_type": "stream",
     "text": [
      "nfl https://www.pro-football-reference.com/\n"
     ]
    }
   ],
   "source": [
    "sports_ref_soup('nfl')"
   ]
  },
  {
   "cell_type": "code",
   "execution_count": 12,
   "id": "9a5d2896",
   "metadata": {},
   "outputs": [
    {
     "name": "stdout",
     "output_type": "stream",
     "text": [
      "nfl https://www.pro-football-reference.com/\n",
      "grain: schedule\n"
     ]
    }
   ],
   "source": [
    "sports_ref_soup('nfl', grain = 'schedule')"
   ]
  },
  {
   "cell_type": "code",
   "execution_count": null,
   "id": "17cecc40",
   "metadata": {},
   "outputs": [],
   "source": []
  },
  {
   "cell_type": "code",
   "execution_count": 13,
   "id": "17ce101a",
   "metadata": {},
   "outputs": [],
   "source": [
    "class InvalidInputError(Exception):\n",
    "    \n",
    "    \"\"\"Raised when the input is invalid.\"\"\"\n",
    "    pass"
   ]
  },
  {
   "cell_type": "code",
   "execution_count": 16,
   "id": "2bdd72f8",
   "metadata": {},
   "outputs": [],
   "source": [
    "def validate_input(value):\n",
    "    if value < 0:\n",
    "        raise InvalidInputError(\"Input value must be non-negative. IDK\")\n",
    "    return value"
   ]
  },
  {
   "cell_type": "code",
   "execution_count": 17,
   "id": "8be4bc06",
   "metadata": {},
   "outputs": [
    {
     "name": "stdout",
     "output_type": "stream",
     "text": [
      "Error: Input value must be non-negative. IDK\n"
     ]
    }
   ],
   "source": [
    "try:\n",
    "    result = validate_input(-5)\n",
    "except InvalidInputError as e:\n",
    "    print(f\"Error: {e}\") "
   ]
  },
  {
   "cell_type": "code",
   "execution_count": null,
   "id": "89704b1e",
   "metadata": {},
   "outputs": [],
   "source": []
  },
  {
   "cell_type": "code",
   "execution_count": null,
   "id": "f2374a98",
   "metadata": {},
   "outputs": [],
   "source": []
  }
 ],
 "metadata": {
  "kernelspec": {
   "display_name": "venv_sports_data_warehouse",
   "language": "python",
   "name": "venv_sports_data_warehouse"
  },
  "language_info": {
   "codemirror_mode": {
    "name": "ipython",
    "version": 3
   },
   "file_extension": ".py",
   "mimetype": "text/x-python",
   "name": "python",
   "nbconvert_exporter": "python",
   "pygments_lexer": "ipython3",
   "version": "3.8.3"
  }
 },
 "nbformat": 4,
 "nbformat_minor": 5
}
